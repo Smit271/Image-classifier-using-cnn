{
 "cells": [
  {
   "cell_type": "markdown",
   "id": "brutal-vanilla",
   "metadata": {},
   "source": [
    "## Dataset Source : https://www.kaggle.com/puneet6060/intel-image-classification"
   ]
  },
  {
   "cell_type": "markdown",
   "id": "clinical-mumbai",
   "metadata": {},
   "source": [
    "## Importing Tensorflow"
   ]
  },
  {
   "cell_type": "code",
   "execution_count": null,
   "id": "reliable-irish",
   "metadata": {},
   "outputs": [],
   "source": [
    "import tensorflow as tf"
   ]
  },
  {
   "cell_type": "markdown",
   "id": "organized-alcohol",
   "metadata": {},
   "source": [
    "## Making Flow for getting image"
   ]
  },
  {
   "cell_type": "code",
   "execution_count": null,
   "id": "sunrise-speed",
   "metadata": {},
   "outputs": [],
   "source": [
    "TRAINING_DIR = './archive/train/'\n",
    "train_datagen = tf.keras.preprocessing.image.ImageDataGenerator(rescale=1 / 255)\n",
    "train_generator = train_datagen.flow_from_directory(\n",
    "    TRAINING_DIR,\n",
    "    batch_size=128,\n",
    "    classes=['building', 'forest', 'glacier', 'mountain', 'sea', 'street'],\n",
    "    color_mode='rgb',\n",
    "    class_mode='sparse',\n",
    "    target_size=(150, 150)\n",
    ")\n",
    "\n",
    "VALIDATION_DIR = './archive/test/'\n",
    "validation_datagen = tf.keras.preprocessing.image.ImageDataGenerator(rescale= 1/255)\n",
    "validation_generator = validation_datagen.flow_from_directory(\n",
    "    VALIDATION_DIR,\n",
    "    batch_size=128,\n",
    "    classes=['building', 'forest', 'glacier', 'mountain', 'sea', 'street'],\n",
    "    color_mode='rgb',\n",
    "    class_mode='sparse',\n",
    "    target_size=(150, 150)\n",
    ")"
   ]
  },
  {
   "cell_type": "markdown",
   "id": "established-eclipse",
   "metadata": {},
   "source": [
    "## Making CNN Model"
   ]
  },
  {
   "cell_type": "code",
   "execution_count": null,
   "id": "universal-quick",
   "metadata": {},
   "outputs": [],
   "source": [
    "def my_model():\n",
    "    input_ = tf.keras.layers.Input((150, 150, 3))\n",
    "    \n",
    "    net = tf.keras.layers.Conv2D(16, (3, 3), strides=(1, 1), padding='valid', activation='relu')(input_)\n",
    "    net = tf.keras.layers.MaxPooling2D(pool_size=(2, 2), strides=(2, 2))(net)\n",
    "    net = tf.keras.layers.Dropout(0.2)(net)\n",
    "    \n",
    "    net = tf.keras.layers.Conv2D(32, (3, 3), strides=(1, 1), padding='same', activation='relu')(net)\n",
    "    net = tf.keras.layers.MaxPooling2D(pool_size=(2, 2), strides=(2, 2))(net)\n",
    "    net = tf.keras.layers.Dropout(0.2)(net)\n",
    "    \n",
    "    net = tf.keras.layers.Flatten()(net)\n",
    "    out = tf.keras.layers.Dense(6, activation='softmax')(net)\n",
    "    \n",
    "    model = tf.keras.Model(inputs=[input_], outputs=[out])\n",
    "\n",
    "    model.compile(loss=tf.keras.losses.sparse_categorical_crossentropy, \n",
    "                  optimizer=tf.keras.optimizers.Adam(lr=0.001), \n",
    "                  metrics=['accuracy'])\n",
    "    model.summary()\n",
    "    tf.keras.utils.plot_model(model, to_file='./model.png', show_shapes=True)\n",
    "    return model"
   ]
  },
  {
   "cell_type": "code",
   "execution_count": null,
   "id": "latter-athens",
   "metadata": {},
   "outputs": [],
   "source": [
    "model = my_model()"
   ]
  },
  {
   "cell_type": "markdown",
   "id": "touched-present",
   "metadata": {},
   "source": [
    "## Making Callbacks"
   ]
  },
  {
   "cell_type": "code",
   "execution_count": null,
   "id": "thermal-tissue",
   "metadata": {},
   "outputs": [],
   "source": [
    "# Define a Callback class that stops training once accuracy reaches 99.9%\n",
    "class myCallback(tf.keras.callbacks.Callback):\n",
    "  def on_epoch_end(self, epoch, logs={}):\n",
    "    if(logs.get('val_accuracy')>0.95):\n",
    "      print(\"\\nReached 95% accuracy so cancelling training!\")\n",
    "      self.model.stop_training = True\n",
    "        \n",
    "reduceLROnPlat = tf.keras.callbacks.ReduceLROnPlateau(\n",
    "        monitor='val_loss',\n",
    "        factor=0.95,\n",
    "        patience=2,\n",
    "        verbose=1,\n",
    "        mode='min',\n",
    "        min_delta=0.0001,\n",
    "        cooldown=2,\n",
    "        min_lr=1e-5\n",
    ")\n",
    "\n",
    "checkpoint = tf.keras.callbacks.ModelCheckpoint(\n",
    "    \"./model_best.h5\", monitor='val_loss', verbose=1, save_best_only=True,\n",
    "    save_weights_only=False, mode='auto', save_freq='epoch'\n",
    ")\n",
    "\n",
    "my_callback = myCallback()"
   ]
  },
  {
   "cell_type": "markdown",
   "id": "sustained-aurora",
   "metadata": {},
   "source": [
    "## Fitting model with data"
   ]
  },
  {
   "cell_type": "code",
   "execution_count": null,
   "id": "resident-language",
   "metadata": {},
   "outputs": [],
   "source": [
    "history = model.fit_generator(\n",
    "    train_generator,\n",
    "    epochs=100,\n",
    "    verbose=1,\n",
    "    validation_data=validation_generator,\n",
    "    callbacks=[reduceLROnPlat, my_callback, checkpoint]\n",
    ")"
   ]
  },
  {
   "cell_type": "markdown",
   "id": "medieval-louisiana",
   "metadata": {},
   "source": [
    "## Visualization"
   ]
  },
  {
   "cell_type": "code",
   "execution_count": null,
   "id": "beneficial-watson",
   "metadata": {},
   "outputs": [],
   "source": [
    "import matplotlib.pyplot as plt\n",
    "\n",
    "plt.plot(history.history['loss'], label='train')\n",
    "plt.plot(history.history['val_loss'], label='validation')\n",
    "plt.title('Loss')\n",
    "plt.xlabel('Epochs')\n",
    "plt.ylabel('Loss')\n",
    "plt.legend()"
   ]
  },
  {
   "cell_type": "code",
   "execution_count": null,
   "id": "anonymous-bolivia",
   "metadata": {},
   "outputs": [],
   "source": [
    "plt.plot(history.history['accuracy'], label='train')\n",
    "plt.plot(history.history['val_accuracy'], label='validation')\n",
    "plt.title('Accuracy')\n",
    "plt.xlabel('Epochs')\n",
    "plt.ylabel('Accuracy')\n",
    "plt.legend()"
   ]
  }
 ],
 "metadata": {
  "kernelspec": {
   "display_name": "Python 3",
   "language": "python",
   "name": "python3"
  },
  "language_info": {
   "codemirror_mode": {
    "name": "ipython",
    "version": 3
   },
   "file_extension": ".py",
   "mimetype": "text/x-python",
   "name": "python",
   "nbconvert_exporter": "python",
   "pygments_lexer": "ipython3",
   "version": "3.8.5"
  }
 },
 "nbformat": 4,
 "nbformat_minor": 5
}
